{
 "cells": [
  {
   "cell_type": "markdown",
   "id": "1b31be22",
   "metadata": {},
   "source": [
    "# Geographic Coordinate Converter\n",
    "\n",
    "Converts a geographic coordinate in DDMMSS format to DD"
   ]
  },
  {
   "cell_type": "markdown",
   "id": "220c42ad",
   "metadata": {},
   "source": [
    "Step 1 - Use the Python input function to prompt a user to enter a geographic coordinate in DDMMSS format (e.g., 391120)."
   ]
  },
  {
   "cell_type": "code",
   "execution_count": null,
   "id": "16f5440b",
   "metadata": {},
   "outputs": [],
   "source": [
    "x = input(\"Please enter a coordinate in DDMMSS format: \")"
   ]
  },
  {
   "cell_type": "markdown",
   "id": "50c7e956",
   "metadata": {},
   "source": [
    "Determine the data type of x and print its value before moving forward."
   ]
  },
  {
   "cell_type": "code",
   "execution_count": null,
   "id": "2a5030b7",
   "metadata": {},
   "outputs": [],
   "source": [
    "type(x)"
   ]
  },
  {
   "cell_type": "code",
   "execution_count": null,
   "id": "98e7e8fb",
   "metadata": {},
   "outputs": [],
   "source": [
    "print(x)"
   ]
  },
  {
   "cell_type": "markdown",
   "id": "c0ca6cc1",
   "metadata": {},
   "source": [
    "Convert the seconds portion of the coordinate into minutes and print the value."
   ]
  },
  {
   "cell_type": "code",
   "execution_count": null,
   "id": "2dc9e74a",
   "metadata": {},
   "outputs": [],
   "source": [
    "ss = int(x[-2:]) / 60\n",
    "print(ss)"
   ]
  },
  {
   "cell_type": "markdown",
   "id": "fd0abc44",
   "metadata": {},
   "source": [
    "Add the converted seconds (ss) to the minutes portion of the coordinate, then convert to degrees (and print the value)."
   ]
  },
  {
   "cell_type": "code",
   "execution_count": null,
   "id": "9a0cd231",
   "metadata": {},
   "outputs": [],
   "source": [
    "mm = (int(x[-4:-2]) + ss) / 60\n",
    "print(mm)"
   ]
  },
  {
   "cell_type": "markdown",
   "id": "34f7d19b",
   "metadata": {},
   "source": [
    "Add the converted minutes to the degree portion of the coordinate (and print the value)"
   ]
  },
  {
   "cell_type": "code",
   "execution_count": null,
   "id": "d78a7741",
   "metadata": {},
   "outputs": [],
   "source": [
    "dd = int(x[:2]) + mm\n",
    "print(dd)"
   ]
  },
  {
   "cell_type": "markdown",
   "id": "107a2b4f",
   "metadata": {},
   "source": [
    "Print the final result - rounded to two decimal places - in a friendly message."
   ]
  },
  {
   "cell_type": "code",
   "execution_count": null,
   "id": "8f6a776e",
   "metadata": {},
   "outputs": [],
   "source": [
    "print('Your new coordinate in decimal degrees is {0}'.format(str(round(dd, 2))))"
   ]
  }
 ],
 "metadata": {
  "kernelspec": {
   "display_name": "Python 3 (ipykernel)",
   "language": "python",
   "name": "python3"
  },
  "language_info": {
   "codemirror_mode": {
    "name": "ipython",
    "version": 3
   },
   "file_extension": ".py",
   "mimetype": "text/x-python",
   "name": "python",
   "nbconvert_exporter": "python",
   "pygments_lexer": "ipython3",
   "version": "3.9.16"
  }
 },
 "nbformat": 4,
 "nbformat_minor": 5
}
