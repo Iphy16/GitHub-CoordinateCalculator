{
 "cells": [
  {
   "cell_type": "markdown",
   "id": "1b31be22",
   "metadata": {},
   "source": [
    "# Geographic Coordinate Converter\n",
    "\n",
    "Converts a geographic coordinate in DDMMSS format to DD"
   ]
  },
  {
   "cell_type": "markdown",
   "id": "220c42ad",
   "metadata": {},
   "source": [
    "Step 1 - Use the Python input function to prompt a user to enter a geographic coordinate in DDMMSS format (e.g., 391120)."
   ]
  },
  {
   "cell_type": "code",
   "execution_count": null,
   "id": "16f5440b",
   "metadata": {},
   "outputs": [],
   "source": [
    "x = input(\"Please enter a coordinate in DDMMSS format: \")"
   ]
  },
  {
   "cell_type": "markdown",
   "id": "50c7e956",
   "metadata": {},
   "source": [
    "Determine the data type of x and print its value before moving forward."
   ]
  },
  {
   "cell_type": "code",
   "execution_count": null,
   "id": "2a5030b7",
   "metadata": {},
   "outputs": [],
   "source": [
    "type(x)"
   ]
  },
  {
   "cell_type": "code",
   "execution_count": null,
   "id": "98e7e8fb",
   "metadata": {},
   "outputs": [],
   "source": [
    "print(x)"
   ]
  }
}
